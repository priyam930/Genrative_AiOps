{
 "cells": [
  {
   "cell_type": "code",
   "execution_count": null,
   "id": "b97c4dd6-93e3-47de-8780-f86091cb7896",
   "metadata": {},
   "outputs": [],
   "source": [
    "#pip install lanchain\n",
    "#pip install langchain-openai\n",
    "#pip install lanchain-core\n",
    "#pip install langsmith\n",
    "#pip install langchain-community\n",
    "#pip install langchain-text-splitters     # this are the important library for langchain model"
   ]
  },
  {
   "cell_type": "code",
   "execution_count": null,
   "id": "4ef356e3-0d80-4188-a080-a6a24aa62834",
   "metadata": {},
   "outputs": [],
   "source": [
    "from dotenv import load_dotenv # create a .env file in your local system and put your api keys in there\n",
    "import os"
   ]
  },
  {
   "cell_type": "code",
   "execution_count": null,
   "id": "4025975b-65c9-4d26-be13-434903a83937",
   "metadata": {},
   "outputs": [],
   "source": [
    "load_dotenv()"
   ]
  },
  {
   "cell_type": "code",
   "execution_count": null,
   "id": "6bcee811-9cf7-48fd-8fe4-2cd40a23ca3e",
   "metadata": {},
   "outputs": [],
   "source": [
    "OpenaiApiKey = os.getenv(\"llm_api_key\")"
   ]
  },
  {
   "cell_type": "code",
   "execution_count": null,
   "id": "e00dc14f-4bf2-4b32-8d19-f1390ddf5074",
   "metadata": {},
   "outputs": [],
   "source": [
    "from langchain.llms import OpenAI"
   ]
  },
  {
   "cell_type": "code",
   "execution_count": null,
   "id": "9e952e22-d615-4a75-a8cc-b708d84932a2",
   "metadata": {},
   "outputs": [],
   "source": [
    "model = OpenAI(openai_api_key=OpenaiApiKey)"
   ]
  },
  {
   "cell_type": "code",
   "execution_count": null,
   "id": "1c2c6c5a-eeed-4bed-9548-ed5492a11b65",
   "metadata": {},
   "outputs": [],
   "source": [
    "output = model(prompt=\"tell me about india in one line\", temperature=0.5)"
   ]
  },
  {
   "cell_type": "code",
   "execution_count": null,
   "id": "357f0572-2000-41f2-a9a5-78a258a4b266",
   "metadata": {},
   "outputs": [],
   "source": [
    "print(output)"
   ]
  },
  {
   "cell_type": "code",
   "execution_count": null,
   "id": "94029abf-409f-45ac-9492-248f81afe5fe",
   "metadata": {},
   "outputs": [],
   "source": [
    "from langchain.agents import AgentType"
   ]
  },
  {
   "cell_type": "code",
   "execution_count": null,
   "id": "063a411f-6482-4abc-bacf-695503faa28f",
   "metadata": {},
   "outputs": [],
   "source": [
    "myagent = AgentType.CHAT_ZERO_SHOT_REACT_DESCRIPTION"
   ]
  },
  {
   "cell_type": "code",
   "execution_count": null,
   "id": "1ed9deee-3046-448f-b2c8-2c1ae69fc709",
   "metadata": {},
   "outputs": [],
   "source": [
    "from langchain_community.utilities import SerpAPIWrapper"
   ]
  },
  {
   "cell_type": "code",
   "execution_count": null,
   "id": "ba0a6358-14d8-4089-a1a3-88a589f94ec9",
   "metadata": {},
   "outputs": [],
   "source": [
    "#search = SerpAPIWrapper()"
   ]
  },
  {
   "cell_type": "code",
   "execution_count": null,
   "id": "32c96174-0234-4d42-ad6d-d520305e6b71",
   "metadata": {},
   "outputs": [],
   "source": [
    "#search.run(\"tell me about india in one line\")"
   ]
  },
  {
   "cell_type": "code",
   "execution_count": null,
   "id": "198372cb-c105-4921-82c8-03c8ac7e53e3",
   "metadata": {},
   "outputs": [],
   "source": [
    "from langchain.agents import load_tools"
   ]
  },
  {
   "cell_type": "code",
   "execution_count": null,
   "id": "cc117222-0dbd-45ba-8b7c-926b0d4f321c",
   "metadata": {},
   "outputs": [],
   "source": [
    "mytools = load_tools([\"serpapi\"])"
   ]
  },
  {
   "cell_type": "code",
   "execution_count": null,
   "id": "332dfb7a-63ba-43e0-8053-15f507b5e90b",
   "metadata": {},
   "outputs": [],
   "source": [
    "from langchain.agents import  initialize_agent"
   ]
  },
  {
   "cell_type": "code",
   "execution_count": null,
   "id": "0d0186b9-ece6-4c74-95e6-d09c1c4fc088",
   "metadata": {},
   "outputs": [],
   "source": [
    "google_chain =  initialize_agent(agent=myagent,  tools=mytools,  llm=model,  verbose=True)"
   ]
  },
  {
   "cell_type": "code",
   "execution_count": null,
   "id": "86c9b291-524e-4bec-8a23-157326b4faae",
   "metadata": {},
   "outputs": [],
   "source": [
    "google_chain.run(\"wanted to know current news in india about election in october 2024\")"
   ]
  }
 ],
 "metadata": {
  "kernelspec": {
   "display_name": "Python 3 (ipykernel)",
   "language": "python",
   "name": "python3"
  },
  "language_info": {
   "codemirror_mode": {
    "name": "ipython",
    "version": 3
   },
   "file_extension": ".py",
   "mimetype": "text/x-python",
   "name": "python",
   "nbconvert_exporter": "python",
   "pygments_lexer": "ipython3",
   "version": "3.12.4"
  }
 },
 "nbformat": 4,
 "nbformat_minor": 5
}
